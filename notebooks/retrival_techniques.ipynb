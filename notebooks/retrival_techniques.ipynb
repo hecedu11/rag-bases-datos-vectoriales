{
 "cells": [
  {
   "cell_type": "markdown",
   "metadata": {},
   "source": [
    "## Técnicas de RAG"
   ]
  },
  {
   "cell_type": "markdown",
   "metadata": {},
   "source": [
    "### Configuración"
   ]
  },
  {
   "cell_type": "code",
   "execution_count": 1,
   "metadata": {},
   "outputs": [],
   "source": [
    "import os\n",
    "from dotenv import load_dotenv, find_dotenv\n",
    "\n",
    "load_dotenv(find_dotenv())\n",
    "\n",
    "os.environ['OPENAI_API_KEY']=os.getenv(\"OPENAI_API_KEY\")\n",
    "api_key = os.getenv(\"OPENAI_API_KEY\")"
   ]
  },
  {
   "cell_type": "markdown",
   "metadata": {},
   "source": [
    "### Rag Simple (LlamaIndex)"
   ]
  },
  {
   "cell_type": "code",
   "execution_count": 2,
   "metadata": {},
   "outputs": [],
   "source": [
    "from llama_index.readers.wikipedia import WikipediaReader\n",
    "\n",
    "reader = WikipediaReader()\n",
    "pages = ['Jenna Ortega', 'Beetlejuice Beetlejuice', 'Winona Ryder']\n",
    "documents_wiki = reader.load_data(pages=pages, auto_suggest=False, redirect = False)"
   ]
  },
  {
   "cell_type": "code",
   "execution_count": 3,
   "metadata": {},
   "outputs": [],
   "source": [
    "from llama_index.llms.openai import OpenAI\n",
    "from llama_index.embeddings.openai import OpenAIEmbedding\n",
    "from llama_index.core import VectorStoreIndex\n",
    "\n",
    "# Inicializa modelos\n",
    "gpt= OpenAI( )\n",
    "embed_model = OpenAIEmbedding()\n",
    "\n",
    "# Transforma los chunks en vectores\n",
    "index = VectorStoreIndex.from_documents(documents_wiki)\n",
    "# Obtiene los embeddings similares\n",
    "retriever = index.as_retriever(similarity_top_k=3)"
   ]
  },
  {
   "cell_type": "code",
   "execution_count": 4,
   "metadata": {},
   "outputs": [],
   "source": [
    "from llama_index.core.prompts import PromptTemplate\n",
    "\n",
    "# Construye una plantilla de prompt para solo proporcionar respuestas basadas en los documentos cargados \n",
    "template = (\n",
    "\"We have provided context information below. \\n\"\n",
    "    \"---------------------\\n\"\n",
    "    \"{context_str}\"\n",
    "    \"\\n---------------------\\n\"\n",
    "    \"Given this information, please answer the question: {query_str}\\n\"\n",
    "    \"Don't give an answer unless it is supported by the context above.\\n\"\n",
    ")\n",
    "\n",
    "qa_template = PromptTemplate(template)"
   ]
  },
  {
   "cell_type": "code",
   "execution_count": null,
   "metadata": {},
   "outputs": [
    {
     "name": "stdout",
     "output_type": "stream",
     "text": [
      "The name of the movie in which Winona Ryder acted alongside Jenna Ortega is \"Beetlejuice Beetlejuice\" (2024).\n"
     ]
    }
   ],
   "source": [
    "question = \"What is the name of the movie in which Winona Ryder acted alongside Jenna Ortega?\"\n",
    "\n",
    "# Recupera el contexto para el modelo\n",
    "contexts = retriever.retrieve(question)\n",
    "context_list = [n.get_content() for n in contexts]\n",
    "prompt = qa_template.format(context_str=\"\\n\\n\".join(context_list), query_str=question)\n",
    "\n",
    "# Genera la respuesta\n",
    "response = gpt.complete(prompt)\n",
    "print(str(response))"
   ]
  },
  {
   "cell_type": "code",
   "execution_count": 8,
   "metadata": {},
   "outputs": [],
   "source": [
    "def rag_function(question):\n",
    "    \n",
    "    contexts = retriever.retrieve(question)\n",
    "    context_list = [n.get_content() for n in contexts]\n",
    "    prompt = qa_template.format(context_str=\"\\n\\n\".join(context_list), query_str=question)\n",
    "\n",
    "    response = gpt.complete(prompt)\n",
    "    print(str(response))"
   ]
  },
  {
   "cell_type": "code",
   "execution_count": 29,
   "metadata": {},
   "outputs": [
    {
     "name": "stdout",
     "output_type": "stream",
     "text": [
      "The plot of the movie in which Winona Ryder acted alongside Jenna Ortega is not provided in the context above.\n"
     ]
    }
   ],
   "source": [
    "question = \"What is the plot of the movie in which Winona Ryder acted alongside Jenna Ortega?\"\n",
    "\n",
    "rag_function(question)"
   ]
  },
  {
   "cell_type": "code",
   "execution_count": 10,
   "metadata": {},
   "outputs": [
    {
     "name": "stdout",
     "output_type": "stream",
     "text": [
      "Based on the context provided, Winona Ryder's family background is described in detail, including her parents, siblings, and family friends. It is mentioned that her father is of Ashkenazi Jewish descent and her mother is a Buddhist. Winona has a younger brother, Urie, and two older half-siblings from her mother's prior marriage. Her family friends include Timothy Leary, Allen Ginsberg, Lawrence Ferlinghetti, and Philip K. Dick. Additionally, it is noted that Winona's family lived in a commune in California when she was a child.\n",
      "\n",
      "On the other hand, there is no information provided about Jenna Ortega's family background in the context above. Therefore, it is not possible to compare the families of Winona Ryder and Jenna Ortega based on the information given.\n"
     ]
    }
   ],
   "source": [
    "question = \"Compare the families of Winona Ryder and Jenna Ortega\"\n",
    "\n",
    "rag_function(question)"
   ]
  },
  {
   "cell_type": "markdown",
   "metadata": {},
   "source": [
    "### RAG Simple con archivo .CSV (LangChain)"
   ]
  },
  {
   "cell_type": "code",
   "execution_count": 11,
   "metadata": {},
   "outputs": [
    {
     "name": "stdout",
     "output_type": "stream",
     "text": [
      "Requirement already satisfied: pip in c:\\users\\diana\\documents\\rag-bases-datos-vectoriales-4219170\\.venv\\lib\\site-packages (24.3.1)\n"
     ]
    }
   ],
   "source": [
    "! python.exe -m pip install --upgrade pip"
   ]
  },
  {
   "cell_type": "code",
   "execution_count": 12,
   "metadata": {},
   "outputs": [],
   "source": [
    "from langchain_community.document_loaders.csv_loader import CSVLoader\n",
    "from pathlib import Path\n",
    "from langchain_openai import ChatOpenAI, OpenAIEmbeddings\n",
    "\n",
    "llm = ChatOpenAI(model=\"gpt-3.5-turbo-0125\")"
   ]
  },
  {
   "cell_type": "code",
   "execution_count": 13,
   "metadata": {},
   "outputs": [
    {
     "data": {
      "text/html": [
       "<div>\n",
       "<style scoped>\n",
       "    .dataframe tbody tr th:only-of-type {\n",
       "        vertical-align: middle;\n",
       "    }\n",
       "\n",
       "    .dataframe tbody tr th {\n",
       "        vertical-align: top;\n",
       "    }\n",
       "\n",
       "    .dataframe thead th {\n",
       "        text-align: right;\n",
       "    }\n",
       "</style>\n",
       "<table border=\"1\" class=\"dataframe\">\n",
       "  <thead>\n",
       "    <tr style=\"text-align: right;\">\n",
       "      <th></th>\n",
       "      <th>Customer Id</th>\n",
       "      <th>First Name</th>\n",
       "      <th>Last Name</th>\n",
       "      <th>Company</th>\n",
       "      <th>City</th>\n",
       "      <th>Country</th>\n",
       "      <th>Phone 1</th>\n",
       "      <th>Phone 2</th>\n",
       "      <th>Email</th>\n",
       "      <th>Subscription Date</th>\n",
       "      <th>Website</th>\n",
       "    </tr>\n",
       "  </thead>\n",
       "  <tbody>\n",
       "    <tr>\n",
       "      <th>0</th>\n",
       "      <td>45dd324a-fb0f-49</td>\n",
       "      <td>Jason</td>\n",
       "      <td>Archer</td>\n",
       "      <td>Thomas-Carlson</td>\n",
       "      <td>New Christopherside</td>\n",
       "      <td>Somalia</td>\n",
       "      <td>001-493-077-0319x60273</td>\n",
       "      <td>001-424-199-8089x6114</td>\n",
       "      <td>kathrynfischer@yahoo.com</td>\n",
       "      <td>2023-07-04</td>\n",
       "      <td>https://www.keith-arroyo.biz/</td>\n",
       "    </tr>\n",
       "    <tr>\n",
       "      <th>1</th>\n",
       "      <td>d66b5a9f-9f1a-45</td>\n",
       "      <td>Carrie</td>\n",
       "      <td>Mckinney</td>\n",
       "      <td>Clark-Delacruz</td>\n",
       "      <td>Darleneland</td>\n",
       "      <td>Antigua and Barbuda</td>\n",
       "      <td>001-872-481-3319</td>\n",
       "      <td>361.647.1195x4993</td>\n",
       "      <td>lortega@mckay.com</td>\n",
       "      <td>2022-07-17</td>\n",
       "      <td>http://young.com/</td>\n",
       "    </tr>\n",
       "    <tr>\n",
       "      <th>2</th>\n",
       "      <td>557fa3f3-81c2-46</td>\n",
       "      <td>Lisa</td>\n",
       "      <td>Diaz</td>\n",
       "      <td>Atkinson-Williams</td>\n",
       "      <td>Hillborough</td>\n",
       "      <td>Gabon</td>\n",
       "      <td>423.071.0191x24285</td>\n",
       "      <td>224-812-6105x726</td>\n",
       "      <td>pmendoza@gmail.com</td>\n",
       "      <td>2024-04-03</td>\n",
       "      <td>http://www.keith.com/</td>\n",
       "    </tr>\n",
       "    <tr>\n",
       "      <th>3</th>\n",
       "      <td>0858fcf6-ae5f-4c</td>\n",
       "      <td>Tanner</td>\n",
       "      <td>Wood</td>\n",
       "      <td>Delacruz-Holt</td>\n",
       "      <td>Murphyhaven</td>\n",
       "      <td>French Polynesia</td>\n",
       "      <td>992-273-1012x1982</td>\n",
       "      <td>615.487.1127x74443</td>\n",
       "      <td>ryantucker@gmail.com</td>\n",
       "      <td>2024-06-19</td>\n",
       "      <td>https://www.wood-coleman.net/</td>\n",
       "    </tr>\n",
       "    <tr>\n",
       "      <th>4</th>\n",
       "      <td>b4d17245-ff34-45</td>\n",
       "      <td>Tamara</td>\n",
       "      <td>Carey</td>\n",
       "      <td>Yoder Inc</td>\n",
       "      <td>East Justinshire</td>\n",
       "      <td>Qatar</td>\n",
       "      <td>540-200-5160x938</td>\n",
       "      <td>001-756-500-8500x189</td>\n",
       "      <td>markmolina@ward.com</td>\n",
       "      <td>2022-06-11</td>\n",
       "      <td>https://dickson.info/</td>\n",
       "    </tr>\n",
       "  </tbody>\n",
       "</table>\n",
       "</div>"
      ],
      "text/plain": [
       "        Customer Id First Name Last Name            Company  \\\n",
       "0  45dd324a-fb0f-49      Jason    Archer     Thomas-Carlson   \n",
       "1  d66b5a9f-9f1a-45     Carrie  Mckinney     Clark-Delacruz   \n",
       "2  557fa3f3-81c2-46       Lisa      Diaz  Atkinson-Williams   \n",
       "3  0858fcf6-ae5f-4c     Tanner      Wood      Delacruz-Holt   \n",
       "4  b4d17245-ff34-45     Tamara     Carey          Yoder Inc   \n",
       "\n",
       "                  City              Country                 Phone 1  \\\n",
       "0  New Christopherside              Somalia  001-493-077-0319x60273   \n",
       "1          Darleneland  Antigua and Barbuda        001-872-481-3319   \n",
       "2          Hillborough                Gabon      423.071.0191x24285   \n",
       "3          Murphyhaven     French Polynesia       992-273-1012x1982   \n",
       "4     East Justinshire                Qatar        540-200-5160x938   \n",
       "\n",
       "                 Phone 2                     Email Subscription Date  \\\n",
       "0  001-424-199-8089x6114  kathrynfischer@yahoo.com        2023-07-04   \n",
       "1      361.647.1195x4993         lortega@mckay.com        2022-07-17   \n",
       "2       224-812-6105x726        pmendoza@gmail.com        2024-04-03   \n",
       "3     615.487.1127x74443      ryantucker@gmail.com        2024-06-19   \n",
       "4   001-756-500-8500x189       markmolina@ward.com        2022-06-11   \n",
       "\n",
       "                         Website  \n",
       "0  https://www.keith-arroyo.biz/  \n",
       "1              http://young.com/  \n",
       "2          http://www.keith.com/  \n",
       "3  https://www.wood-coleman.net/  \n",
       "4          https://dickson.info/  "
      ]
     },
     "execution_count": 13,
     "metadata": {},
     "output_type": "execute_result"
    }
   ],
   "source": [
    "import pandas as pd\n",
    "\n",
    "file_path = ('../data/customers.csv')\n",
    "data = pd.read_csv(file_path)\n",
    "\n",
    "data.head()"
   ]
  },
  {
   "cell_type": "code",
   "execution_count": 14,
   "metadata": {},
   "outputs": [],
   "source": [
    "loader = CSVLoader(file_path=file_path)\n",
    "docs = loader.load_and_split()"
   ]
  },
  {
   "cell_type": "code",
   "execution_count": 22,
   "metadata": {},
   "outputs": [
    {
     "ename": "NameError",
     "evalue": "name 'OpenAIEmbeddings' is not defined",
     "output_type": "error",
     "traceback": [
      "\u001b[1;31m---------------------------------------------------------------------------\u001b[0m",
      "\u001b[1;31mNameError\u001b[0m                                 Traceback (most recent call last)",
      "Cell \u001b[1;32mIn[22], line 5\u001b[0m\n\u001b[0;32m      2\u001b[0m \u001b[38;5;28;01mfrom\u001b[39;00m \u001b[38;5;21;01mlangchain_community\u001b[39;00m\u001b[38;5;21;01m.\u001b[39;00m\u001b[38;5;21;01mdocstore\u001b[39;00m\u001b[38;5;21;01m.\u001b[39;00m\u001b[38;5;21;01min_memory\u001b[39;00m \u001b[38;5;28;01mimport\u001b[39;00m InMemoryDocstore\n\u001b[0;32m      3\u001b[0m \u001b[38;5;28;01mfrom\u001b[39;00m \u001b[38;5;21;01mlangchain_community\u001b[39;00m\u001b[38;5;21;01m.\u001b[39;00m\u001b[38;5;21;01mvectorstores\u001b[39;00m \u001b[38;5;28;01mimport\u001b[39;00m FAISS\n\u001b[1;32m----> 5\u001b[0m embeddings \u001b[38;5;241m=\u001b[39m \u001b[43mOpenAIEmbeddings\u001b[49m()\n\u001b[0;32m      6\u001b[0m index \u001b[38;5;241m=\u001b[39m faiss\u001b[38;5;241m.\u001b[39mIndexFlatL2(\u001b[38;5;28mlen\u001b[39m(OpenAIEmbeddings()\u001b[38;5;241m.\u001b[39membed_query(\u001b[38;5;124m\"\u001b[39m\u001b[38;5;124m \u001b[39m\u001b[38;5;124m\"\u001b[39m)))\n\u001b[0;32m      7\u001b[0m vector_store \u001b[38;5;241m=\u001b[39m FAISS(\n\u001b[0;32m      8\u001b[0m     embedding_function\u001b[38;5;241m=\u001b[39mOpenAIEmbeddings(),\n\u001b[0;32m      9\u001b[0m     index\u001b[38;5;241m=\u001b[39mindex,\n\u001b[0;32m     10\u001b[0m     docstore\u001b[38;5;241m=\u001b[39mInMemoryDocstore(),\n\u001b[0;32m     11\u001b[0m     index_to_docstore_id\u001b[38;5;241m=\u001b[39m{}\n\u001b[0;32m     12\u001b[0m )\n",
      "\u001b[1;31mNameError\u001b[0m: name 'OpenAIEmbeddings' is not defined"
     ]
    }
   ],
   "source": [
    "import faiss\n",
    "from langchain_community.docstore.in_memory import InMemoryDocstore\n",
    "from langchain_community.vectorstores import FAISS\n",
    "\n",
    "embeddings = OpenAIEmbeddings()\n",
    "index = faiss.IndexFlatL2(len(OpenAIEmbeddings().embed_query(\" \")))\n",
    "vector_store = FAISS(\n",
    "    embedding_function=OpenAIEmbeddings(),\n",
    "    index=index,\n",
    "    docstore=InMemoryDocstore(),\n",
    "    index_to_docstore_id={}\n",
    ")"
   ]
  },
  {
   "cell_type": "code",
   "execution_count": null,
   "metadata": {},
   "outputs": [],
   "source": [
    "vector_store.add_documents(documents=docs)"
   ]
  },
  {
   "cell_type": "code",
   "execution_count": null,
   "metadata": {},
   "outputs": [],
   "source": [
    "! pip show langchain-core"
   ]
  },
  {
   "cell_type": "code",
   "execution_count": 21,
   "metadata": {},
   "outputs": [
    {
     "ename": "NameError",
     "evalue": "name 'vector_store' is not defined",
     "output_type": "error",
     "traceback": [
      "\u001b[1;31m---------------------------------------------------------------------------\u001b[0m",
      "\u001b[1;31mNameError\u001b[0m                                 Traceback (most recent call last)",
      "Cell \u001b[1;32mIn[21], line 5\u001b[0m\n\u001b[0;32m      2\u001b[0m \u001b[38;5;28;01mfrom\u001b[39;00m \u001b[38;5;21;01mlangchain\u001b[39;00m\u001b[38;5;21;01m.\u001b[39;00m\u001b[38;5;21;01mchains\u001b[39;00m \u001b[38;5;28;01mimport\u001b[39;00m create_retrieval_chain\n\u001b[0;32m      3\u001b[0m \u001b[38;5;28;01mfrom\u001b[39;00m \u001b[38;5;21;01mlangchain\u001b[39;00m\u001b[38;5;21;01m.\u001b[39;00m\u001b[38;5;21;01mchains\u001b[39;00m\u001b[38;5;21;01m.\u001b[39;00m\u001b[38;5;21;01mcombine_documents\u001b[39;00m \u001b[38;5;28;01mimport\u001b[39;00m create_stuff_documents_chain\n\u001b[1;32m----> 5\u001b[0m retriever \u001b[38;5;241m=\u001b[39m \u001b[43mvector_store\u001b[49m\u001b[38;5;241m.\u001b[39mas_retriever()\n\u001b[0;32m      7\u001b[0m system_prompt \u001b[38;5;241m=\u001b[39m (\n\u001b[0;32m      8\u001b[0m     \u001b[38;5;124m\"\u001b[39m\u001b[38;5;124mYou are an assistant for question-answering tasks. \u001b[39m\u001b[38;5;124m\"\u001b[39m\n\u001b[0;32m      9\u001b[0m     \u001b[38;5;124m\"\u001b[39m\u001b[38;5;124mUse the following pieces of retrieved context to answer \u001b[39m\u001b[38;5;124m\"\u001b[39m\n\u001b[1;32m   (...)\u001b[0m\n\u001b[0;32m     14\u001b[0m     \u001b[38;5;124m\"\u001b[39m\u001b[38;5;132;01m{context}\u001b[39;00m\u001b[38;5;124m\"\u001b[39m\n\u001b[0;32m     15\u001b[0m )\n\u001b[0;32m     17\u001b[0m prompt \u001b[38;5;241m=\u001b[39m ChatPromptTemplate\u001b[38;5;241m.\u001b[39mfrom_messages([\n\u001b[0;32m     18\u001b[0m     (\u001b[38;5;124m\"\u001b[39m\u001b[38;5;124msystem\u001b[39m\u001b[38;5;124m\"\u001b[39m, system_prompt),\n\u001b[0;32m     19\u001b[0m     (\u001b[38;5;124m\"\u001b[39m\u001b[38;5;124mhuman\u001b[39m\u001b[38;5;124m\"\u001b[39m, \u001b[38;5;124m\"\u001b[39m\u001b[38;5;132;01m{input}\u001b[39;00m\u001b[38;5;124m\"\u001b[39m),\n\u001b[0;32m     20\u001b[0m     \n\u001b[0;32m     21\u001b[0m ])\n",
      "\u001b[1;31mNameError\u001b[0m: name 'vector_store' is not defined"
     ]
    }
   ],
   "source": [
    "from langchain_core.prompts import ChatPromptTemplate\n",
    "from langchain.chains import create_retrieval_chain\n",
    "from langchain.chains.combine_documents import create_stuff_documents_chain\n",
    "\n",
    "retriever = vector_store.as_retriever()\n",
    "\n",
    "system_prompt = (\n",
    "    \"You are an assistant for question-answering tasks. \"\n",
    "    \"Use the following pieces of retrieved context to answer \"\n",
    "    \"the question. If you don't know the answer, say that you \"\n",
    "    \"don't know. Use three sentences maximum and keep the \"\n",
    "    \"answer concise.\"\n",
    "    \"\\n\\n\"\n",
    "    \"{context}\"\n",
    ")\n",
    "\n",
    "prompt = ChatPromptTemplate.from_messages([\n",
    "    (\"system\", system_prompt),\n",
    "    (\"human\", \"{input}\"),\n",
    "    \n",
    "])\n",
    "\n",
    "# Crea una cadena de pregunta y respuesta\n",
    "question_answer_chain = create_stuff_documents_chain(llm, prompt)\n",
    "rag_chain = create_retrieval_chain(retriever, question_answer_chain)"
   ]
  },
  {
   "cell_type": "markdown",
   "metadata": {},
   "source": [
    "### Re-ranking"
   ]
  },
  {
   "cell_type": "markdown",
   "metadata": {},
   "source": [
    "1. Modelos de Re-Ranking como alternativa a los modelos de embeddings.\n",
    "2. LLMs como re-rankers."
   ]
  },
  {
   "cell_type": "code",
   "execution_count": 5,
   "metadata": {},
   "outputs": [],
   "source": [
    "def display_source_node(node, source_length=500):\n",
    "    \"\"\"\n",
    "    Función para imprimir la información de un nodo de manera legible.\n",
    "    \n",
    "    Args:\n",
    "    - node (dict o Node): El nodo a mostrar, que debe contener al menos las propiedades 'node_id' y 'text'.\n",
    "    - source_length (int): El número de caracteres del texto del nodo que se mostrarán.\n",
    "    \"\"\"\n",
    "    print(f\"Node ID: {node.node_id}\")\n",
    "    print(f\"Similarity: {node.score}\")\n",
    "    print(f\"Text: {node.text[:source_length]}...\")  # Muestra solo los primeros 'source_length' caracteres\n"
   ]
  },
  {
   "cell_type": "code",
   "execution_count": 6,
   "metadata": {},
   "outputs": [
    {
     "name": "stdout",
     "output_type": "stream",
     "text": [
      "----------------------------------------------------\n",
      "Node ID: 85d9eb22-5112-4ce4-b6fc-53ae7d064e01\n",
      "Similarity: 0.8308654058813671\n",
      "Text: Winona Laura Horowitz (born (1971-10-29)October 29, 1971), known professionally as Winona Ryder, is an American actress. Having come to attention playing quirky characters in the late 1980s, she achieved success with her more dramatic performances in the 1990s. Ryder's many accolades include a Golden Globe, as well as nominations for two Academy Awards, a BAFTA Award, three Screen Actors Guild Awards and a Grammy Award.\n",
      "Following her film debut in Lucas (1986), Ryder rose to prominence when she ...\n",
      "----------------------------------------------------\n",
      "Node ID: ea42c64a-f3f8-4621-b5e2-efb1f33c815f\n",
      "Similarity: 0.825133846283455\n",
      "Text: == Early life ==\n",
      "Winona Laura Horowitz was born in Winona County, Minnesota, to Cynthia Palmer (née Istas) and Michael D. Horowitz. Winona's mother is an author, video producer, and editor, and her father is an author, editor, publisher, and antiquarian bookseller. He also worked as an archivist for psychologist Timothy Leary (Ryder's godfather). Winona's father's family is of Ashkenazi Jewish descent and hails from Ukraine and Romania. Growing up, Winona visited her paternal grandparents in Bro...\n",
      "----------------------------------------------------\n",
      "Node ID: 56faa4eb-c2b3-4167-92d6-76c4646705f7\n",
      "Similarity: 0.8199788187901215\n",
      "Text: Jenna Marie Ortega (born September 27, 2002) is an American actress. She began her career as a child and received recognition for her role as a younger version of Jane in The CW comedy-drama series Jane the Virgin (2014–2019). She then won an Imagen Award for her leading role as Harley Diaz in the Disney Channel series Stuck in the Middle (2016–2018). She played Ellie Alves in the thriller series You (2019) and starred in the family film Yes Day (2021), both for Netflix.\n",
      "Ortega received praise f...\n"
     ]
    }
   ],
   "source": [
    "# Recuperar los tres primeros fragmentos para la segunda consulta\n",
    "retriever = index.as_retriever(similarity_top_k=3)\n",
    "query = \"Compare the families of Winona Ryder and Jenna Ortega\"\n",
    "nodes = retriever.retrieve(query)\n",
    "# Imprimir los fragmentos\n",
    "for node in nodes:\n",
    "    print('----------------------------------------------------')\n",
    "    display_source_node(node, source_length=500)\n"
   ]
  },
  {
   "cell_type": "markdown",
   "metadata": {},
   "source": [
    "##### Re-Ranking con FlagEmbeddingReranker"
   ]
  },
  {
   "cell_type": "code",
   "execution_count": 7,
   "metadata": {},
   "outputs": [],
   "source": [
    "load_dotenv(find_dotenv())\n",
    "\n",
    "os.environ['HUGGING_FACE_TOKEN']=os.getenv(\"HUGGING_FACE_TOKEN\")"
   ]
  },
  {
   "cell_type": "code",
   "execution_count": null,
   "metadata": {},
   "outputs": [],
   "source": [
    "%pip install llama-index-postprocessor-flag-embedding-reranker\n",
    "%pip install git+https://github.com/FlagOpen/FlagEmbedding.git\n"
   ]
  },
  {
   "cell_type": "code",
   "execution_count": 8,
   "metadata": {},
   "outputs": [
    {
     "name": "stderr",
     "output_type": "stream",
     "text": [
      "pre tokenize:   0%|          | 0/1 [00:00<?, ?it/s]You're using a XLMRobertaTokenizerFast tokenizer. Please note that with a fast tokenizer, using the `__call__` method is faster than using a method to encode the text followed by a call to the `pad` method to get a padded encoding.\n",
      "pre tokenize: 100%|██████████| 1/1 [00:00<00:00, 89.37it/s]\n",
      "c:\\Users\\linkedin\\Documents\\GitHub\\rag-bases-datos-vectoriales-4219170\\.venv\\Lib\\site-packages\\transformers\\tokenization_utils_base.py:2888: UserWarning: `max_length` is ignored when `padding`=`True` and there is no truncation strategy. To pad to max length, use `padding='max_length'`.\n",
      "  warnings.warn(\n"
     ]
    },
    {
     "name": "stdout",
     "output_type": "stream",
     "text": [
      "----------------------------------------------------\n",
      "Node ID: 56faa4eb-c2b3-4167-92d6-76c4646705f7\n",
      "Similarity: 4.252162933349609\n",
      "Text: Jenna Marie Ortega (born September 27, 2002) is an American actress. She began her career as a child and received recognition for her role as a younger version of Jane in The CW comedy-drama series Jane the Virgin (2014–2019). She then won an Imagen Award for her leading role as Harley Diaz in the Disney Channel series Stuck in the Middle (2016–2018). She played Ellie Alves in the thriller series You (2019) and starred in the family film Yes Day (2021), both for Netflix.\n",
      "Ortega received praise f...\n",
      "----------------------------------------------------\n",
      "Node ID: 85d9eb22-5112-4ce4-b6fc-53ae7d064e01\n",
      "Similarity: 2.778338670730591\n",
      "Text: Winona Laura Horowitz (born (1971-10-29)October 29, 1971), known professionally as Winona Ryder, is an American actress. Having come to attention playing quirky characters in the late 1980s, she achieved success with her more dramatic performances in the 1990s. Ryder's many accolades include a Golden Globe, as well as nominations for two Academy Awards, a BAFTA Award, three Screen Actors Guild Awards and a Grammy Award.\n",
      "Following her film debut in Lucas (1986), Ryder rose to prominence when she ...\n",
      "----------------------------------------------------\n",
      "Node ID: ea42c64a-f3f8-4621-b5e2-efb1f33c815f\n",
      "Similarity: -0.320730596780777\n",
      "Text: == Early life ==\n",
      "Winona Laura Horowitz was born in Winona County, Minnesota, to Cynthia Palmer (née Istas) and Michael D. Horowitz. Winona's mother is an author, video producer, and editor, and her father is an author, editor, publisher, and antiquarian bookseller. He also worked as an archivist for psychologist Timothy Leary (Ryder's godfather). Winona's father's family is of Ashkenazi Jewish descent and hails from Ukraine and Romania. Growing up, Winona visited her paternal grandparents in Bro...\n"
     ]
    }
   ],
   "source": [
    "# Importar paquetes\n",
    "from llama_index.postprocessor.flag_embedding_reranker import FlagEmbeddingReranker\n",
    "from llama_index.core.schema import QueryBundle\n",
    "\n",
    "# Re-Ordenar los fragmentos basados en el modelo bge-reranker-base\n",
    "reranker = FlagEmbeddingReranker(\n",
    "    top_n=3,\n",
    "    model=\"BAAI/bge-reranker-base\",\n",
    ")\n",
    "\n",
    "# Devolver los fragmentos actualizados\n",
    "query_bundle = QueryBundle(query_str=query)\n",
    "ranked_nodes = reranker._postprocess_nodes(nodes, query_bundle=query_bundle)\n",
    "\n",
    "for ranked_node in ranked_nodes:\n",
    "    print('----------------------------------------------------')\n",
    "    display_source_node(ranked_node, source_length=500)\n"
   ]
  },
  {
   "cell_type": "code",
   "execution_count": 9,
   "metadata": {},
   "outputs": [],
   "source": [
    "# Inicializar el motor de consulta con Re-Ranking\n",
    "query_engine = index.as_query_engine(similarity_top_k=3, node_postprocessors=[reranker])"
   ]
  },
  {
   "cell_type": "code",
   "execution_count": 10,
   "metadata": {},
   "outputs": [
    {
     "name": "stderr",
     "output_type": "stream",
     "text": [
      "pre tokenize: 100%|██████████| 1/1 [00:00<00:00, 250.00it/s]\n"
     ]
    }
   ],
   "source": [
    "# Imprimir la respuesta del modelo\n",
    "response = query_engine.query(\"Compare the families of Jenna Ortega and Winona Ryder\")"
   ]
  },
  {
   "cell_type": "code",
   "execution_count": 11,
   "metadata": {},
   "outputs": [
    {
     "name": "stdout",
     "output_type": "stream",
     "text": [
      "Jenna Ortega comes from a family with a father of Mexican descent and a mother of Mexican and Puerto Rican descent. She has four siblings and has described her childhood as \"loud and extroverted.\" On the other hand, Winona Ryder's family background includes Ashkenazi Jewish ancestry from Ukraine and Romania. She has a younger brother and two older half-siblings from her mother's previous marriage. Ryder's family friends included notable figures like Timothy Leary, Allen Ginsberg, and Philip K. Dick.\n"
     ]
    }
   ],
   "source": [
    "print(response)"
   ]
  },
  {
   "cell_type": "markdown",
   "metadata": {},
   "source": [
    "#### Re-Ranking con RankGPTRerank"
   ]
  },
  {
   "cell_type": "code",
   "execution_count": null,
   "metadata": {},
   "outputs": [],
   "source": [
    "%pip install llama-index-postprocessor-rankgpt-rerank"
   ]
  },
  {
   "cell_type": "code",
   "execution_count": 16,
   "metadata": {},
   "outputs": [
    {
     "name": "stdout",
     "output_type": "stream",
     "text": [
      "----------------------------------------------------\n",
      "Node ID: ea42c64a-f3f8-4621-b5e2-efb1f33c815f\n",
      "Similarity: -0.320730596780777\n",
      "Text: == Early life ==\n",
      "Winona Laura Horowitz was born in Winona County, Minnesota, to Cynthia Palmer (née Istas) and Michael D. Horowitz. Winona's mother is an author, video producer, and editor, and her father is an author, editor, publisher, and antiquarian bookseller. He also worked as an archivist for psychologist Timothy Leary (Ryder's godfather). Winona's father's family is of Ashkenazi Jewish descent and hails from Ukraine and Romania. Growing up, Winona visited her paternal grandparents in Bro...\n",
      "----------------------------------------------------\n",
      "Node ID: 56faa4eb-c2b3-4167-92d6-76c4646705f7\n",
      "Similarity: 4.252162933349609\n",
      "Text: Jenna Marie Ortega (born September 27, 2002) is an American actress. She began her career as a child and received recognition for her role as a younger version of Jane in The CW comedy-drama series Jane the Virgin (2014–2019). She then won an Imagen Award for her leading role as Harley Diaz in the Disney Channel series Stuck in the Middle (2016–2018). She played Ellie Alves in the thriller series You (2019) and starred in the family film Yes Day (2021), both for Netflix.\n",
      "Ortega received praise f...\n",
      "----------------------------------------------------\n",
      "Node ID: 85d9eb22-5112-4ce4-b6fc-53ae7d064e01\n",
      "Similarity: 2.778338670730591\n",
      "Text: Winona Laura Horowitz (born (1971-10-29)October 29, 1971), known professionally as Winona Ryder, is an American actress. Having come to attention playing quirky characters in the late 1980s, she achieved success with her more dramatic performances in the 1990s. Ryder's many accolades include a Golden Globe, as well as nominations for two Academy Awards, a BAFTA Award, three Screen Actors Guild Awards and a Grammy Award.\n",
      "Following her film debut in Lucas (1986), Ryder rose to prominence when she ...\n"
     ]
    }
   ],
   "source": [
    "# Importar paquetes\n",
    "from llama_index.postprocessor.rankgpt_rerank import RankGPTRerank\n",
    "from llama_index.core.schema import QueryBundle\n",
    "\n",
    "# Re-Ordenar los tres primeros fragmentos basados en el modelo gpt-3.5-turbo-0125\n",
    "reranker = RankGPTRerank(\n",
    "    top_n=3,\n",
    "    llm=OpenAI(model=\"gpt-4o\"),\n",
    ")\n",
    "\n",
    "# Mostrar los tres primeros fragmentos basados en RankGPT\n",
    "query_bundle = QueryBundle(query_str=query)\n",
    "ranked_nodes = reranker._postprocess_nodes(nodes, query_bundle=query_bundle)\n",
    "\n",
    "for ranked_node in ranked_nodes:\n",
    "    print('----------------------------------------------------')\n",
    "    display_source_node(ranked_node, source_length=500)\n"
   ]
  },
  {
   "cell_type": "code",
   "execution_count": 13,
   "metadata": {},
   "outputs": [],
   "source": [
    "# Inicializar el motor de consulta con Re-Ranking\n",
    "query_engine = index.as_query_engine(similarity_top_k=3, node_postprocessors=[reranker])"
   ]
  },
  {
   "cell_type": "code",
   "execution_count": 17,
   "metadata": {},
   "outputs": [
    {
     "name": "stdout",
     "output_type": "stream",
     "text": [
      "Jenna Ortega comes from a large family with four siblings, born to a father of Mexican descent who works in law enforcement and a mother of Mexican and Puerto Rican descent who is a nurse. On the other hand, Winona Ryder was born to parents with diverse backgrounds - her mother is an author, video producer, and editor, while her father is an author, editor, publisher, and antiquarian bookseller. Ryder's family friends included notable figures like Timothy Leary, Allen Ginsberg, and Philip K. Dick. Additionally, Ryder has half-siblings from her mother's prior marriage, and her family has Jewish roots from Ukraine and Romania.\n"
     ]
    }
   ],
   "source": [
    "# Imprimir la respuesta del modelo\n",
    "response = query_engine.query(\"Compare the families of Jenna Ortega and Winona Ryder\")\n",
    "print (response)"
   ]
  },
  {
   "cell_type": "markdown",
   "metadata": {},
   "source": [
    "### Update Chunk Size"
   ]
  },
  {
   "cell_type": "code",
   "execution_count": null,
   "metadata": {
    "vscode": {
     "languageId": "sql"
    }
   },
   "outputs": [],
   "source": []
  }
 ],
 "metadata": {
  "kernelspec": {
   "display_name": ".venv",
   "language": "python",
   "name": "python3"
  },
  "language_info": {
   "codemirror_mode": {
    "name": "ipython",
    "version": 3
   },
   "file_extension": ".py",
   "mimetype": "text/x-python",
   "name": "python",
   "nbconvert_exporter": "python",
   "pygments_lexer": "ipython3",
   "version": "3.12.7"
  }
 },
 "nbformat": 4,
 "nbformat_minor": 2
}
