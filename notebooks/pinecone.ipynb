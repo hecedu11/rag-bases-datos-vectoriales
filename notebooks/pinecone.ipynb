{
 "cells": [
  {
   "cell_type": "markdown",
   "metadata": {},
   "source": [
    "## Manos a la obra con Pinecone (VDB)"
   ]
  },
  {
   "cell_type": "code",
   "execution_count": null,
   "metadata": {},
   "outputs": [],
   "source": [
    "! pip install \"pinecone[grpc]\""
   ]
  },
  {
   "cell_type": "code",
   "execution_count": null,
   "metadata": {},
   "outputs": [],
   "source": [
    "import os\n",
    "from dotenv import load_dotenv, find_dotenv \n",
    "from pinecone import Pinecone, ServerlessSpec\n",
    "\n",
    "load_dotenv(find_dotenv())\n",
    "\n",
    "pinecone_api_key = os.getenv(\"PINECONE_API_KEY\")\n",
    "\n",
    "pc = Pinecone(api_key=pinecone_api_key)\n"
   ]
  },
  {
   "cell_type": "code",
   "execution_count": 26,
   "metadata": {},
   "outputs": [],
   "source": [
    "from langchain_openai import OpenAIEmbeddings\n",
    "\n",
    "embeddings_model = OpenAIEmbeddings(model=\"text-embedding-3-large\")"
   ]
  },
  {
   "cell_type": "code",
   "execution_count": 27,
   "metadata": {},
   "outputs": [],
   "source": [
    "def get_embedding(text_to_embed):\n",
    "    text = text_to_embed.replace(\"\\n\", \" \")\n",
    "    return embeddings_model.embed_documents([text])"
   ]
  },
  {
   "cell_type": "code",
   "execution_count": null,
   "metadata": {},
   "outputs": [],
   "source": [
    "# Ejemplo de datos para crear embeddings\n",
    "data = [\n",
    "    {\"id\": \"vec1\", \"text\": \"Orange es una fruta cítrica conocida por su jugo refrescante y su sabor ácido-dulce.\"},\n",
    "    {\"id\": \"vec2\", \"text\": \"La empresa de telecomunicaciones Orange ofrece servicios de telefonía móvil e Internet en muchos países.\"},\n",
    "    {\"id\": \"vec3\", \"text\": \"Las naranjas son una excelente fuente de vitamina C y se consumen en todo el mundo.\"},\n",
    "    {\"id\": \"vec4\", \"text\": \"Orange ha sido pionera en la industria de las telecomunicaciones, proporcionando cobertura de red y servicios avanzados.\"},\n",
    "    {\"id\": \"vec5\", \"text\": \"Tomar un vaso de jugo de naranja fresco es una forma popular de comenzar el día.\"},\n",
    "    {\"id\": \"vec6\", \"text\": \"La compañía Orange fue fundada para proporcionar servicios de telecomunicaciones modernos y eficientes.\"}\n",
    "]\n",
    "\n",
    "# Genera embeddings usando un modelo de OpenAI\n",
    "embeddings = [get_embedding(item[\"text\"]) for item in data]"
   ]
  },
  {
   "cell_type": "code",
   "execution_count": 34,
   "metadata": {},
   "outputs": [],
   "source": [
    "index_name = \"lil-demo-index\"\n",
    "\n",
    "spec = ServerlessSpec(\n",
    "    cloud=\"aws\",\n",
    "    region=\"us-east-1\",\n",
    ")\n",
    "\n",
    "# Crea un índice si no existe\n",
    "if index_name not in pc.list_indexes():\n",
    "    pc.create_index(index_name, dimension=len(embeddings[0][0]), spec=spec , metric=\"cosine\")\n",
    "\n",
    "# Conecta al índice creado\n",
    "index = pc.Index(index_name)\n"
   ]
  },
  {
   "cell_type": "code",
   "execution_count": 35,
   "metadata": {},
   "outputs": [
    {
     "data": {
      "text/plain": [
       "{'upserted_count': 6}"
      ]
     },
     "execution_count": 35,
     "metadata": {},
     "output_type": "execute_result"
    }
   ],
   "source": [
    "# Prepara los registros para insertar\n",
    "records = []\n",
    "for d, e in zip(data, embeddings):\n",
    "    records.append({\n",
    "        \"id\": d['id'],\n",
    "        \"values\": e[0],\n",
    "        \"metadata\": {'text': d['text']}\n",
    "    })\n",
    "\n",
    "# Inserta los vectores en el índice\n",
    "index.upsert(vectors=records)\n"
   ]
  },
  {
   "cell_type": "code",
   "execution_count": 36,
   "metadata": {},
   "outputs": [
    {
     "name": "stdout",
     "output_type": "stream",
     "text": [
      "{'matches': [{'id': 'vec4',\n",
      "              'metadata': {'text': 'Orange ha sido pionera en la industria de '\n",
      "                                   'las telecomunicaciones, proporcionando '\n",
      "                                   'cobertura de red y servicios avanzados.'},\n",
      "              'score': 0.521476448,\n",
      "              'values': []},\n",
      "             {'id': 'vec2',\n",
      "              'metadata': {'text': 'La empresa de telecomunicaciones Orange '\n",
      "                                   'ofrece servicios de telefonía móvil e '\n",
      "                                   'Internet en muchos países.'},\n",
      "              'score': 0.501588643,\n",
      "              'values': []},\n",
      "             {'id': 'vec6',\n",
      "              'metadata': {'text': 'La compañía Orange fue fundada para '\n",
      "                                   'proporcionar servicios de '\n",
      "                                   'telecomunicaciones modernos y eficientes.'},\n",
      "              'score': 0.500831783,\n",
      "              'values': []}],\n",
      " 'namespace': '',\n",
      " 'usage': {'read_units': 6}}\n"
     ]
    }
   ],
   "source": [
    "# Convierte la consulta a un vector de embedding\n",
    "consulta = \"Tell me about the company Orange\"\n",
    "consulta_embedding = embeddings_model.embed_query(consulta)\n",
    "\n",
    "# Realiza la búsqueda en el índice\n",
    "resultado = index.query(top_k=3, vector=consulta_embedding, include_metadata=True)\n",
    "\n",
    "# Muestra los resultados\n",
    "print(resultado)\n"
   ]
  },
  {
   "cell_type": "code",
   "execution_count": 33,
   "metadata": {},
   "outputs": [],
   "source": [
    "# Elimina el índice de Pinecone\n",
    "pc.delete_index(index_name)\n"
   ]
  }
 ],
 "metadata": {
  "kernelspec": {
   "display_name": ".venv",
   "language": "python",
   "name": "python3"
  },
  "language_info": {
   "codemirror_mode": {
    "name": "ipython",
    "version": 3
   },
   "file_extension": ".py",
   "mimetype": "text/x-python",
   "name": "python",
   "nbconvert_exporter": "python",
   "pygments_lexer": "ipython3",
   "version": "3.12.7"
  }
 },
 "nbformat": 4,
 "nbformat_minor": 2
}
